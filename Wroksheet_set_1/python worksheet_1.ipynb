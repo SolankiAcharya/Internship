{
 "cells": [
  {
   "cell_type": "code",
   "execution_count": 1,
   "id": "e78c6283",
   "metadata": {},
   "outputs": [
    {
     "name": "stdout",
     "output_type": "stream",
     "text": [
      "Enter a number: 3\n",
      "The factorial of 3 is 6\n"
     ]
    }
   ],
   "source": [
    "#python program to find the factorial of a number\n",
    "\n",
    "n = int(input(\"Enter a number: \"))    \n",
    "factorial = 1    \n",
    "if n < 0:    \n",
    "   print(\" Factorial does not exist for negative numbers\")    \n",
    "elif n == 0:    \n",
    "   print(\"The factorial of 0 is 1\")    \n",
    "else:    \n",
    "   for i in range(1,n + 1):    \n",
    "       factorial = factorial*i    \n",
    "   print(\"The factorial of\",n,\"is\",factorial)    \n"
   ]
  },
  {
   "cell_type": "code",
   "execution_count": 2,
   "id": "211994f2",
   "metadata": {},
   "outputs": [
    {
     "name": "stdout",
     "output_type": "stream",
     "text": [
      "Enter any number : 73\n",
      "73 is a PRIME\n"
     ]
    }
   ],
   "source": [
    "#python program to find whether a number is prime or composite.\n",
    "\n",
    "m = int(input(\"Enter any number : \"))\n",
    "if m > 1:\n",
    "    for i in range(2, m):\n",
    "        if (m % i) == 0:\n",
    "            print(m, \"is NOT a prime\")\n",
    "            break\n",
    "    else:\n",
    "        print(m, \"is a PRIME\")\n",
    "elif m == 0 or 1:\n",
    "    print(m, \"is a neither prime NOR composite\")\n",
    "else:\n",
    "    print(m, \"is NOT a prime, it is COMPOSITE\")"
   ]
  },
  {
   "cell_type": "code",
   "execution_count": 3,
   "id": "34eb5c70",
   "metadata": {},
   "outputs": [
    {
     "name": "stdout",
     "output_type": "stream",
     "text": [
      "Enter the string to check if it is a palindrome: katak\n",
      "The string is a palindrome.\n"
     ]
    }
   ],
   "source": [
    "#python program to check whether a given string is palindrome or not.\n",
    "\n",
    "my_str= input (\"Enter the string to check if it is a palindrome: \")\n",
    "rev_str = reversed(my_str)\n",
    "if list(my_str) == list(rev_str):\n",
    "   print(\"The string is a palindrome.\")\n",
    "else:\n",
    "   print(\"The string is not a palindrome.\")"
   ]
  },
  {
   "cell_type": "code",
   "execution_count": 4,
   "id": "895dfcca",
   "metadata": {},
   "outputs": [
    {
     "name": "stdout",
     "output_type": "stream",
     "text": [
      "c = 5.0\n",
      "b = 8.0\n",
      "a = 5.0\n",
      "All the three sides are known\n"
     ]
    }
   ],
   "source": [
    "#python program to get the third side of right-angled triangle from two given sides.\n",
    "\n",
    "#let,a,b,c be three sides where a<b<c\n",
    "def pythagoras(a,b,c):\n",
    "        if a == str(\"x\"):\n",
    "            return (\"a = \" + str(((c**2) - (b**2))**0.5))\n",
    "        elif b == str(\"x\"):\n",
    "            return (\"b = \" + str(((c**2) - (a**2))**0.5))\n",
    "        elif c == str(\"x\"):\n",
    "            return (\"c = \" + str(((a**2) + (b**2))**0.5))\n",
    "        else:\n",
    "            return \"All the three sides are known\"\n",
    "    \n",
    "print(pythagoras(3,4,'x'))\n",
    "print(pythagoras(6,'x',10))\n",
    "print(pythagoras('x',12,13))\n",
    "print(pythagoras(15, 20, 25))"
   ]
  },
  {
   "cell_type": "code",
   "execution_count": 5,
   "id": "95927a0f",
   "metadata": {},
   "outputs": [
    {
     "name": "stdout",
     "output_type": "stream",
     "text": [
      "Enter the string: solanki acharya\n",
      "frequency of each of the characters present:\n",
      " Counter({'a': 4, 's': 1, 'o': 1, 'l': 1, 'n': 1, 'k': 1, 'i': 1, ' ': 1, 'c': 1, 'h': 1, 'r': 1, 'y': 1})\n"
     ]
    }
   ],
   "source": [
    "#python program to print the frequency of each of the characters present in a given string.\n",
    "\n",
    "from collections import Counter\n",
    "my_string = input (\"Enter the string: \")\n",
    "freq = Counter(my_string)\n",
    "print (\"frequency of each of the characters present:\\n \" +  str(freq))"
   ]
  },
  {
   "cell_type": "code",
   "execution_count": null,
   "id": "5f71043a",
   "metadata": {},
   "outputs": [],
   "source": []
  }
 ],
 "metadata": {
  "kernelspec": {
   "display_name": "Python 3 (ipykernel)",
   "language": "python",
   "name": "python3"
  },
  "language_info": {
   "codemirror_mode": {
    "name": "ipython",
    "version": 3
   },
   "file_extension": ".py",
   "mimetype": "text/x-python",
   "name": "python",
   "nbconvert_exporter": "python",
   "pygments_lexer": "ipython3",
   "version": "3.9.7"
  }
 },
 "nbformat": 4,
 "nbformat_minor": 5
}
